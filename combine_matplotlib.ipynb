{
 "metadata": {
  "name": "",
  "signature": "sha256:cb3e84b952ec98f908038a371e7a49643c26ac4fe78754f9f68f5288a34a801c"
 },
 "nbformat": 3,
 "nbformat_minor": 0,
 "worksheets": [
  {
   "cells": [
    {
     "cell_type": "markdown",
     "metadata": {},
     "source": [
      "# COMBINE Matplotlib Demo - November 27th 2014"
     ]
    },
    {
     "cell_type": "markdown",
     "metadata": {},
     "source": [
      "# Use beware\n",
      "\n",
      "- This script is designed to recreate slides and demonstrate a few things that are possible with Matplotlib.\n",
      "\n",
      "- It's not intended to be a precise reference for using Matplotlib. Some good review pages:\n",
      "    - http://matplotlib.org/faq/usage_faq.html\n",
      "    - http://matplotlib.org/users/index.html\n",
      "    - http://matplotlib.org/api/\n",
      "\n",
      "- There are omissions that are important to know about, and there are'better' ways to do some things in this example using these ommitted approaches:\n",
      "    - Types of reference coordinates\n",
      "        - http://matplotlib.org/users/transforms_tutorial.html#transforms-tutorial\n",
      "    - Style sheets and matplotlibrc\n",
      "        - http://matplotlib.org/users/style_sheets.html\n",
      "        - http://matplotlib.org/users/customizing.html\n",
      "    - Backends\n",
      "        - http://matplotlib.org/faq/usage_faq.html#what-is-a-backend\n",
      "    "
     ]
    },
    {
     "cell_type": "markdown",
     "metadata": {},
     "source": [
      "##Because we are using IPython notebook, we want our plots to appear inline"
     ]
    },
    {
     "cell_type": "code",
     "collapsed": false,
     "input": [
      "%matplotlib inline"
     ],
     "language": "python",
     "metadata": {},
     "outputs": [],
     "prompt_number": 1
    },
    {
     "cell_type": "markdown",
     "metadata": {},
     "source": [
      "#Basic plot"
     ]
    },
    {
     "cell_type": "markdown",
     "metadata": {},
     "source": [
      "#MATLAB style"
     ]
    },
    {
     "cell_type": "code",
     "collapsed": false,
     "input": [
      "import matplotlib.pyplot as plt\n",
      "\n",
      "x= range(0,11,1)\n",
      "y= range(0,11,1)\n",
      "\n",
      "plt.figure()\n",
      "plt.plot(x, y, 'b')\n",
      "plt.xlabel('x')\n",
      "plt.ylabel('y')\n",
      "plt.title('title')\n",
      "plt.show()"
     ],
     "language": "python",
     "metadata": {},
     "outputs": [
      {
       "metadata": {},
       "output_type": "display_data",
       "png": "[encoded data removed]",
       "text": [
        "<matplotlib.figure.Figure at 0x10562a320>"
       ]
      }
     ],
     "prompt_number": 2
    },
    {
     "cell_type": "markdown",
     "metadata": {},
     "source": [
      "#OO style"
     ]
    },
    {
     "cell_type": "code",
     "collapsed": false,
     "input": [
      "import matplotlib.pyplot as plt\n",
      "\n",
      "x= range(0,11,1)\n",
      "y= range(0,11,1)\n",
      "\n",
      "fig = plt.figure()\n",
      "\n",
      "axes = fig.add_axes([0.1,0.1,0.8,.8])\n",
      "axes.set_xlabel('x')\n",
      "axes.set_ylabel('y')\n",
      "axes.set_title('x vs y');\n",
      "axes.plot(x,y)"
     ],
     "language": "python",
     "metadata": {},
     "outputs": [
      {
       "metadata": {},
       "output_type": "pyout",
       "prompt_number": 3,
       "text": [
        "[<matplotlib.lines.Line2D at 0x105825f28>]"
       ]
      },
      {
       "metadata": {},
       "output_type": "display_data",
       "png": "[encoded data removed]",
       "text": [
        "<matplotlib.figure.Figure at 0x1057495f8>"
       ]
      }
     ],
     "prompt_number": 3
    }
   ],
   "metadata": {}
  }
 ]
}
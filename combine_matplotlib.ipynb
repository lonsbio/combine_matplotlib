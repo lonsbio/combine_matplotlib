{
 "metadata": {
  "name": "",
  "signature": "sha256:d9ff04b3096569ade1325f97ef19b95e750b98d223fa8b0f98028046e50c182e"
 },
 "nbformat": 3,
 "nbformat_minor": 0,
 "worksheets": [
  {
   "cells": [
    {
     "cell_type": "markdown",
     "metadata": {},
     "source": [
      "# COMBINE Matplotlib Demo - November 27th 2014"
     ]
    },
    {
     "cell_type": "markdown",
     "metadata": {},
     "source": [
      "# Use beware\n",
      "\n",
      "- This script is designed to recreate slides and demonstrate a few things that are possible with Matplotlib.\n",
      "\n",
      "- It's not intended to be a precise reference for using Matplotlib. Some good review pages:\n",
      "    - http://matplotlib.org/faq/usage_faq.html\n",
      "    - http://matplotlib.org/users/index.html\n",
      "    - http://matplotlib.org/api/\n",
      "\n",
      "- There are omissions that are important to know about, and there are'better' ways to do some things in this example using these ommitted approaches:\n",
      "    - Types of reference coordinates\n",
      "        - http://matplotlib.org/users/transforms_tutorial.html#transforms-tutorial\n",
      "    - Style sheets and matplotlibrc\n",
      "        - http://matplotlib.org/users/style_sheets.html\n",
      "        - http://matplotlib.org/users/customizing.html\n",
      "    - Backends\n",
      "        - http://matplotlib.org/faq/usage_faq.html#what-is-a-backend\n",
      "    "
     ]
    },
    {
     "cell_type": "code",
     "collapsed": false,
     "input": [
      "%matplotlib inline"
     ],
     "language": "python",
     "metadata": {},
     "outputs": [],
     "prompt_number": 1
    }
   ],
   "metadata": {}
  }
 ]
}